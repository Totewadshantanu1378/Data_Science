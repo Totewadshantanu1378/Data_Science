{
 "cells": [
  {
   "cell_type": "code",
   "execution_count": 3,
   "id": "60be36f6-6cfe-424b-9baf-5f611def94ed",
   "metadata": {},
   "outputs": [],
   "source": [
    "#Q . A teacher claims that the mean score of students \n",
    "#    in his class is greater than 82 with a standard deviation \n",
    "   # of 20.if a sample of 81 student was selected woith a mean of 90\n",
    "\n",
    "x_bar = 90\n",
    "u = 82\n",
    "pop_std = 20\n",
    "n = 81"
   ]
  },
  {
   "cell_type": "code",
   "execution_count": 22,
   "id": "43f9a32c-3ba1-4c9a-93a5-d462ec3293e4",
   "metadata": {},
   "outputs": [],
   "source": [
    "import numpy as np \n",
    "import matplotlib.pyplot as plt\n",
    "import seaborn as sns\n",
    "import pandas as pd"
   ]
  },
  {
   "cell_type": "code",
   "execution_count": 16,
   "id": "9bc20dde-9428-4d34-8edf-e802b2e7f165",
   "metadata": {},
   "outputs": [],
   "source": [
    " import scipy.stats as st    # the library having all the required statistical measures for data handling"
   ]
  },
  {
   "cell_type": "code",
   "execution_count": 24,
   "id": "1e14ca59-b1d2-435c-9994-29505254336d",
   "metadata": {},
   "outputs": [
    {
     "data": {
      "text/plain": [
       "np.float64(1.6448536269514722)"
      ]
     },
     "execution_count": 24,
     "metadata": {},
     "output_type": "execute_result"
    }
   ],
   "source": [
    "z_table = st.norm.ppf(0.95)   #this is used to calculate the z value of given significance level inside the bracket\n",
    "z_table"
   ]
  },
  {
   "cell_type": "code",
   "execution_count": 32,
   "id": "a144d723-0310-4606-9a59-38f590fabe27",
   "metadata": {},
   "outputs": [
    {
     "data": {
      "text/plain": [
       "np.float64(3.5999999999999996)"
      ]
     },
     "execution_count": 32,
     "metadata": {},
     "output_type": "execute_result"
    }
   ],
   "source": [
    "z_cal = (x_bar - u ) / (pop_std / np.sqrt(n))\n",
    "z_cal"
   ]
  },
  {
   "cell_type": "code",
   "execution_count": 33,
   "id": "86f07231-53f0-43c8-b44f-2f8651baca11",
   "metadata": {},
   "outputs": [
    {
     "name": "stdout",
     "output_type": "stream",
     "text": [
      "teachers claim is wrong, Ho is wrong\n"
     ]
    }
   ],
   "source": [
    "if z_table < z_cal :\n",
    "    print(\"teachers claim is wrong, Ho is wrong\")\n",
    "else:\n",
    "    print(\"teachers claim is right ,Ho is right\")\n",
    "    "
   ]
  },
  {
   "cell_type": "code",
   "execution_count": 24,
   "id": "15814e95-d199-4a96-9fc3-0003495573cf",
   "metadata": {},
   "outputs": [],
   "source": [
    "# Q.2 .  a manufacturer claims that the average weight of a bag of potato chips is 150\n",
    "# grams. a sample of 25 bags is taken , and the average weight is found to be 148 grams ,\n",
    "# with a standard deviation of 5 grams.Tes the manufacturer claim using a one tailed t-test \n",
    "# with a significance level of 0.05\n",
    "\n",
    "\n",
    "x_bar_2 = 148\n",
    "u_2 = 150\n",
    "std_2 = 5\n",
    "n_2 = 25\n",
    "\n"
   ]
  },
  {
   "cell_type": "code",
   "execution_count": 17,
   "id": "ba474130-15ba-418f-a3e2-3c5baa66f32c",
   "metadata": {},
   "outputs": [],
   "source": [
    "import scipy.stats as st"
   ]
  },
  {
   "cell_type": "code",
   "execution_count": 28,
   "id": "dc7559d0-c809-4e35-9e63-dfd9c35c445f",
   "metadata": {},
   "outputs": [
    {
     "data": {
      "text/plain": [
       "np.float64(-1.7108820799094282)"
      ]
     },
     "execution_count": 28,
     "metadata": {},
     "output_type": "execute_result"
    }
   ],
   "source": [
    "t_table = st.t.ppf(0.05,24)  # here 0.05 is significance level and degree of freedom is 25 -1 = 24\n",
    "t_table    # the value is negative , beacause it is a negatively tailed"
   ]
  },
  {
   "cell_type": "code",
   "execution_count": 27,
   "id": "163cae37-ac5c-47f2-bc2f-fcb6e6c2acc6",
   "metadata": {},
   "outputs": [
    {
     "data": {
      "text/plain": [
       "np.float64(-2.0)"
      ]
     },
     "execution_count": 27,
     "metadata": {},
     "output_type": "execute_result"
    }
   ],
   "source": [
    "t_cal = (x_bar_2 - u_2) / (std_2 / np.sqrt(n_2))\n",
    "t_cal"
   ]
  },
  {
   "cell_type": "code",
   "execution_count": 31,
   "id": "584dd011-b82d-41b0-9b8d-2a6f148fa980",
   "metadata": {},
   "outputs": [
    {
     "name": "stdout",
     "output_type": "stream",
     "text": [
      "the manufacturers claim is wrong\n"
     ]
    }
   ],
   "source": [
    "if t_cal < t_table:\n",
    "    print(\"the manufacturers claim is wrong\")\n",
    "else:\n",
    "    print(\"the manufacturers claim is right\")\n",
    "    "
   ]
  },
  {
   "cell_type": "code",
   "execution_count": null,
   "id": "abc16f43-003f-4d74-bfd2-69426260cc68",
   "metadata": {},
   "outputs": [],
   "source": [
    "# Q.3 A company wants to test whether a new training program improves the typing speed \n",
    "# of its employees . typing speed of 20 employees was recorded before and after the program\n",
    "# the data is given below. Test at a 5% level of significance whether the training program \n",
    "# has an effect on the typing speed or not \n",
    "\n",
    "# before : 50,60,45,65,55,70,40,75,80,65,70,60,50,55,45,75,60,50,65,70 \n",
    "# after : 60,70,55,75,65,80,50,85,90,70,75,65,55,60,50,80,65,55,70,75"
   ]
  },
  {
   "cell_type": "code",
   "execution_count": 47,
   "id": "91c9cb95-155a-4e9b-9b28-2de1f7cc7e18",
   "metadata": {},
   "outputs": [],
   "source": [
    "before = np.array([50,60,45,65,55,70,40,75,80,65,70,60,50,55,45,75,60,50,65,70])\n",
    "after = np.array([60,70,55,75,65,80,50,85,90,70,75,65,55,60,50,80,65,55,70,75])\n",
    "n = 20\n",
    "df = 20 - 1   # because the people are same ,just before program and after program values"
   ]
  },
  {
   "cell_type": "code",
   "execution_count": 45,
   "id": "5bafafe2-a84d-4f8c-8291-a3c0d188f528",
   "metadata": {},
   "outputs": [
    {
     "data": {
      "text/plain": [
       "np.float64(60.25)"
      ]
     },
     "execution_count": 45,
     "metadata": {},
     "output_type": "execute_result"
    }
   ],
   "source": [
    "std_after = after.std()\n",
    "std_before = before.std()\n",
    "mean_after = after.mean()\n",
    "mean_before = before.mean()\n",
    "mean_before"
   ]
  },
  {
   "cell_type": "code",
   "execution_count": 66,
   "id": "0f0eaf34-478f-44ff-b46a-8c9454a399b1",
   "metadata": {},
   "outputs": [
    {
     "data": {
      "text/plain": [
       "np.float64(2.061200527128206)"
      ]
     },
     "execution_count": 66,
     "metadata": {},
     "output_type": "execute_result"
    }
   ],
   "source": [
    "t_cal_typing = (mean_after - mean_before) / np.sqrt(((std_after*std_after) / n) + ((std_before*std_before) / n))\n",
    "t_cal_typing"
   ]
  },
  {
   "cell_type": "code",
   "execution_count": null,
   "id": "5fffaa02-7847-4217-b304-dbb6f130663b",
   "metadata": {},
   "outputs": [],
   "source": [
    "# the change can be positive or can be negative as well therefore it is two tailed\n"
   ]
  },
  {
   "cell_type": "code",
   "execution_count": 68,
   "id": "7e6b4d79-8b66-4f0a-85e1-915521ec6323",
   "metadata": {},
   "outputs": [
    {
     "data": {
      "text/plain": [
       "np.float64(2.093024054408263)"
      ]
     },
     "execution_count": 68,
     "metadata": {},
     "output_type": "execute_result"
    }
   ],
   "source": [
    "# because of two tailed test the value of alpha  = alpha / 2\n",
    "# 0.05 -> 0.025\n",
    "\n",
    "t_table_typing = st.t.ppf(1 - 0.025 , 19)\n",
    "t_table_typing\n",
    "\n",
    "# the value from table would be negative as it is two tailed it will be between the (-2.09 , 2.09) in this range the Ho is wrong "
   ]
  },
  {
   "cell_type": "code",
   "execution_count": 70,
   "id": "e7390fd8-01dc-485c-aa5e-531d635b3ba5",
   "metadata": {},
   "outputs": [
    {
     "name": "stdout",
     "output_type": "stream",
     "text": [
      "The ho is right , there is no difference in improvement...\n"
     ]
    }
   ],
   "source": [
    "if t_cal_typing < t_table_typing :\n",
    "    print(\"The ho is right , there is no difference in improvement...\")\n",
    "else:\n",
    "    print(\"Ho is wrong..\")"
   ]
  },
  {
   "cell_type": "code",
   "execution_count": null,
   "id": "b1809ff4-0e34-4eee-88d8-4d2a8fcc143a",
   "metadata": {},
   "outputs": [],
   "source": [
    "# CHI SQUARE TEST => "
   ]
  },
  {
   "cell_type": "code",
   "execution_count": null,
   "id": "5f0ac640-e21c-4979-9c7b-5420b14fa998",
   "metadata": {},
   "outputs": [],
   "source": [
    "# Q. a study was conducted to investigate whether there is a relationship between gender \n",
    "# and the preferred genre of music . a sample of 235 people was selected , and the data collected \n",
    "# is shown below . test at a 5% level of significance whether there is a significant association\n",
    "# between genderand music preference\n",
    "\n",
    "          # pop      hiphop     classical    rock\n",
    "# Male      40         45          25         10\n",
    "# Female    35         30          20         30\n",
    "\n",
    "# Ho : there is no relation \n",
    "# Ha : there is relation "
   ]
  },
  {
   "cell_type": "code",
   "execution_count": 88,
   "id": "13c5a8f9-10e1-4b01-829a-3fd4dc6fd3cd",
   "metadata": {},
   "outputs": [],
   "source": [
    "# df = (row - 1)*(col - 1)\n",
    "df = 3\n",
    "n = 235\n",
    "row1 = np.array([40,45,25,10])\n",
    "row2 = np.array([35,30,20,30])\n"
   ]
  },
  {
   "cell_type": "code",
   "execution_count": 89,
   "id": "99cd77ab-825b-4927-a3ec-a79f278858a8",
   "metadata": {},
   "outputs": [
    {
     "data": {
      "text/plain": [
       "array([120, 115])"
      ]
     },
     "execution_count": 89,
     "metadata": {},
     "output_type": "execute_result"
    }
   ],
   "source": [
    "sum_r1 = np.sum(row1)\n",
    "sum_r2 = np.sum(row2)\n",
    "sum_row = np.array([sum_r1 , sum_r2])\n",
    "sum_row"
   ]
  },
  {
   "cell_type": "code",
   "execution_count": 90,
   "id": "a876f4a1-8a35-4bf1-bc06-cf7304cd8d86",
   "metadata": {},
   "outputs": [
    {
     "data": {
      "text/plain": [
       "array([75, 75, 45, 40])"
      ]
     },
     "execution_count": 90,
     "metadata": {},
     "output_type": "execute_result"
    }
   ],
   "source": [
    "sum_col = row1 + row2;\n",
    "sum_col"
   ]
  },
  {
   "cell_type": "code",
   "execution_count": 129,
   "id": "7d05ef1f-c5b8-4568-8723-ad98bf4e30cb",
   "metadata": {},
   "outputs": [
    {
     "data": {
      "text/plain": [
       "[np.float64(38.297872340425535),\n",
       " np.float64(38.297872340425535),\n",
       " np.float64(22.97872340425532),\n",
       " np.float64(20.425531914893618),\n",
       " np.float64(36.702127659574465),\n",
       " np.float64(36.702127659574465),\n",
       " np.float64(22.02127659574468),\n",
       " np.float64(19.574468085106382)]"
      ]
     },
     "execution_count": 129,
     "metadata": {},
     "output_type": "execute_result"
    }
   ],
   "source": [
    "# The formula to find the expected_value is E = (row_total * column_total) / grand_total\n",
    "expected_value = []\n",
    "for i in sum_row:\n",
    "    for j in sum_col:\n",
    "        expected_value.append(i*j/n)\n",
    "\n",
    "expected_value"
   ]
  },
  {
   "cell_type": "code",
   "execution_count": 105,
   "id": "cd60ff3d-bbd5-4d68-9dde-127c04b6ffb2",
   "metadata": {},
   "outputs": [],
   "source": [
    " observed_value = np.array([40,45,25,10,35,30,20,30])"
   ]
  },
  {
   "cell_type": "code",
   "execution_count": 111,
   "id": "2e61e4df-377b-41e7-a82d-441a76faee6e",
   "metadata": {},
   "outputs": [],
   "source": [
    "chi_cal = np.sum((np.square(observed_value - expected_value)) / expected_value)"
   ]
  },
  {
   "cell_type": "code",
   "execution_count": 112,
   "id": "46fda0b0-55a4-40a4-9ccf-4bf512fb9f78",
   "metadata": {},
   "outputs": [],
   "source": [
    "# for getting the criticcal value always subtract level of significance from 1\n",
    "chi_table = st.chi2.ppf(1 - 0.05 , 3)"
   ]
  },
  {
   "cell_type": "code",
   "execution_count": 114,
   "id": "315fc16a-2b85-4489-a476-150815d336e5",
   "metadata": {},
   "outputs": [
    {
     "name": "stdout",
     "output_type": "stream",
     "text": [
      "h1 is right , there is relation\n"
     ]
    }
   ],
   "source": [
    "if chi_cal < chi_table : \n",
    "    print(\"ho is right , there is no relation\")\n",
    "else :\n",
    "    print(\"h1 is right , there is relation\")"
   ]
  }
 ],
 "metadata": {
  "kernelspec": {
   "display_name": "Python 3 (ipykernel)",
   "language": "python",
   "name": "python3"
  },
  "language_info": {
   "codemirror_mode": {
    "name": "ipython",
    "version": 3
   },
   "file_extension": ".py",
   "mimetype": "text/x-python",
   "name": "python",
   "nbconvert_exporter": "python",
   "pygments_lexer": "ipython3",
   "version": "3.13.2"
  }
 },
 "nbformat": 4,
 "nbformat_minor": 5
}
