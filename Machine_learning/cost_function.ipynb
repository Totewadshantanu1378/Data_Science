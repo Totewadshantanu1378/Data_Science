{
 "cells": [
  {
   "cell_type": "code",
   "execution_count": 10,
   "id": "dce52afa-a0f4-4276-b728-bde25133e65b",
   "metadata": {},
   "outputs": [],
   "source": [
    "# In machine learning, a cost function is a mathematical formula that measures how well a model is performing.\n",
    "# It tells us how far off our model’s predictions are from the actual results\n",
    "\n",
    "# there are two types of cost function = \n",
    "# 1-regression costfunction(mean squared error , mean absolute error , root mean squared error)\n",
    "# 2-classification costfunction\n",
    "\n",
    "# you can achieve best fit line by using gradient desent method-\n",
    "\n",
    "# important = gradient descent concept"
   ]
  }
 ],
 "metadata": {
  "kernelspec": {
   "display_name": "Python 3 (ipykernel)",
   "language": "python",
   "name": "python3"
  },
  "language_info": {
   "codemirror_mode": {
    "name": "ipython",
    "version": 3
   },
   "file_extension": ".py",
   "mimetype": "text/x-python",
   "name": "python",
   "nbconvert_exporter": "python",
   "pygments_lexer": "ipython3",
   "version": "3.13.2"
  }
 },
 "nbformat": 4,
 "nbformat_minor": 5
}
