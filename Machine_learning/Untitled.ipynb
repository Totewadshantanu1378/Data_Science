{
 "cells": [
  {
   "cell_type": "code",
   "execution_count": 1,
   "id": "2db24c77-23c9-48aa-b7d9-c5c96aed76a1",
   "metadata": {},
   "outputs": [],
   "source": [
    "import pandas as pd\n",
    "import matplotlib.pyplot as plt\n",
    "import seaborn as sns\n"
   ]
  },
  {
   "cell_type": "code",
   "execution_count": 2,
   "id": "4fbbad2d-d34d-40bd-b764-8b3b258c6c30",
   "metadata": {},
   "outputs": [],
   "source": [
    "df = pd.read_csv(\"placement.csv\")"
   ]
  },
  {
   "cell_type": "code",
   "execution_count": 3,
   "id": "09a95f92-0ba4-4573-86ea-0a4d6b55b59f",
   "metadata": {},
   "outputs": [],
   "source": [
    "x = df[['cgpa']]\n",
    "y = df['iq']"
   ]
  },
  {
   "cell_type": "code",
   "execution_count": null,
   "id": "9baa1d9f-2a71-432c-8c09-f55abddab505",
   "metadata": {},
   "outputs": [],
   "source": []
  }
 ],
 "metadata": {
  "kernelspec": {
   "display_name": "Python 3 (ipykernel)",
   "language": "python",
   "name": "python3"
  },
  "language_info": {
   "codemirror_mode": {
    "name": "ipython",
    "version": 3
   },
   "file_extension": ".py",
   "mimetype": "text/x-python",
   "name": "python",
   "nbconvert_exporter": "python",
   "pygments_lexer": "ipython3",
   "version": "3.13.2"
  }
 },
 "nbformat": 4,
 "nbformat_minor": 5
}
